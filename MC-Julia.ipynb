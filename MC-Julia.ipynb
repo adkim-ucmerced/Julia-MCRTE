{
 "cells": [
  {
   "cell_type": "markdown",
   "id": "44deef70-33bf-47af-bbd6-12b21ec599a8",
   "metadata": {},
   "source": [
    "# Monte Carlo for radiative transfer implemented in Julia\n",
    "\n",
    "## Arnold D. Kim\n",
    "*Department of Applied Mathematics, University of California, Merced*"
   ]
  },
  {
   "cell_type": "code",
   "execution_count": 2,
   "id": "c592c5ac-cde2-4265-84ae-e6de1b4f28d3",
   "metadata": {},
   "outputs": [],
   "source": [
    "# include packages used in these codes\n",
    "\n",
    "using Dates, DelimitedFiles, PyPlot, LaTeXStrings"
   ]
  },
  {
   "cell_type": "code",
   "execution_count": 3,
   "id": "3ddcf0bc-09e8-4a7a-89ce-ca5ea21c68e0",
   "metadata": {},
   "outputs": [
    {
     "name": "stdout",
     "output_type": "stream",
     "text": [
      "Last updated: 2024-07-08T15:11:28.663\n"
     ]
    }
   ],
   "source": [
    "# give the current day and time to show last update to the code\n",
    "\n",
    "println( \"Last updated: \", Dates.now() )"
   ]
  },
  {
   "cell_type": "markdown",
   "id": "baaeb07f-45de-42d1-a4ac-0fa724a8b6c5",
   "metadata": {},
   "source": [
    "## Description\n",
    "\n",
    "This Jupyter notebook contains the Julia implementation of a Monte Carlo simulation method to solve the following boundary value problem for the radiative transfer equation,\n",
    "\\begin{equation}\n",
    "    \\hat{\\mathbf{s}} \\cdot \\nabla I + I = \\varpi_{0} \\int_{4\\pi} p(\\hat{\\mathbf{s}} \\cdot \\hat{\\mathbf{s}}') \n",
    "    I(\\hat{\\mathbf{s}}',\\mathbf{r}) \\mathrm{d}\\hat{\\mathbf{s}}', \\quad \\text{in $z > 0$},\n",
    "\\end{equation}\n",
    "subject to the boundary condition,\n",
    "\\begin{equation}\n",
    "    I(\\hat{\\mathbf{s}},x,y,0) = \\delta(\\hat{\\mathbf{s}} - \\hat{z}) \n",
    "    \\delta(x) \\delta(y)\n",
    "    + \\mathcal{R}[I](\\hat{\\mathbf{s}},x,y,0), \n",
    "    \\quad \\text{on $\\hat{\\mathbf{s}} \\cdot \\hat{z} > 0$}.\n",
    "\\end{equation}\n",
    "Here, $p$ is the phase function, $\\varpi_{0}$ is the albedo and $\\mathcal{R}$ is the operator corresponding to reflection at the boundary due to a refractive index mismatch. Note that in this formulation of radiative transfer, the spatial variables are scaled by the total scattering coefficient $\\mu_{t} = \\mu_{s} + \\mu_{a}$ where $\\mu_{s}$ is the scattering coefficient and $\\mu_{a}$ is the absorption coefficient.\n",
    "\n",
    "In particular, the Monte Carlo simulations below compute the diffuse reflectance resulting from an infinitessimally narrow pencil beam incident normally on the semi-infinite medium."
   ]
  },
  {
   "cell_type": "markdown",
   "id": "eab0ed28-449d-4326-9434-c3833048846f",
   "metadata": {},
   "source": [
    "In these simulations, $p(\\hat{\\mathbf{s}} \\cdot \\hat{\\mathbf{s}}')$ is the Henyey-Greenstein phase function,\n",
    "\\begin{equation}\n",
    "    p(\\cos\\Theta) = \\frac{1}{4\\pi} \\frac{1 - g^{2}}{(1 + g^{2} - 2 g \\cos\\Theta )^{3/2}},\n",
    "\\end{equation}\n",
    "with $g$ denoting the anisotropy factor."
   ]
  },
  {
   "cell_type": "markdown",
   "id": "6fa38a9e-e454-4c5d-990f-924c352cb682",
   "metadata": {},
   "source": [
    "## Monte Carlo simulations\n",
    "\n",
    "The Julia code below is based off of the Monte Carlo Simulation Package, MCML, described in the following references.\n",
    "\n",
    "1. Wang, L. V.; Jacques, S. L.; Zheng, L. Q.; \"MCML — Monte Carlo modeling of light transport in multilayered tissues,\" Computer Methods and Programs in Biomedicine 47(2) 131-146 (1995)\n",
    "\n",
    "2. Jacques, S. L.; Wang, L. V.; \"Monte Carlo modeling of light transport in tissues,\" Optical Thermal Response of Laser Irradiated Tissue 73–100 (1995)\n",
    "\n",
    "This implementation is specific to this particular problem and is not meant as a general purpose code."
   ]
  },
  {
   "cell_type": "markdown",
   "id": "eff419d2-f424-42cb-abb5-a115b9d69618",
   "metadata": {},
   "source": [
    "## Common Monte Carlo functions\n",
    "\n",
    "The codes below define functions that are extensively used by the Monte Carlo simulations."
   ]
  },
  {
   "cell_type": "markdown",
   "id": "f147a8b0-a45e-473d-b6c8-4be370875562",
   "metadata": {},
   "source": [
    "### Function: RFresnel\n",
    "\n",
    "Compute the Fresnel reflection coefficient for upolarized light.\n",
    "\n",
    "NOTE: This code is a direct translation of the code appearing in MCML."
   ]
  },
  {
   "cell_type": "code",
   "execution_count": 9,
   "id": "53d2bbfd-9d83-4bf7-b124-da55711b5d40",
   "metadata": {},
   "outputs": [
    {
     "data": {
      "text/plain": [
       "RFresnel (generic function with 1 method)"
      ]
     },
     "execution_count": 9,
     "metadata": {},
     "output_type": "execute_result"
    }
   ],
   "source": [
    "function RFresnel( n1, n2, ca1 )\n",
    "\n",
    "    if n1 == n2\n",
    "        \n",
    "        r = 0.0;\n",
    "        \n",
    "    elseif ca1 > 1.0 - 1e-12\n",
    "        \n",
    "        r  = ( n2 - n1 ) / ( n2 + n1 );\n",
    "        r *= r;\n",
    "    \n",
    "    elseif ca1 < 1e-6\n",
    "        \n",
    "        r = 1.0;\n",
    "        \n",
    "    else\n",
    "        \n",
    "        sa1 = sqrt( 1.0 - ca1 * ca1 );\n",
    "        sa2 = n1 * sa1 / n2;\n",
    "\n",
    "        if sa2 >= 1.0\n",
    "            \n",
    "            # double check for total internal reflection\n",
    "\n",
    "            r = 1.0;\n",
    "            \n",
    "        else\n",
    "\n",
    "            ca2 = sqrt( 1.0 - sa2 * sa2 );\n",
    "            cap = ca1 * ca2 - sa1 * sa2; \n",
    "            cam = ca1 * ca2 + sa1 * sa2;\n",
    "            sap = sa1 * ca2 + ca1 * sa2;\n",
    "            sam = sa1 * ca2 - ca1 * sa2;\n",
    "\n",
    "            r = 0.5 * sam * sam * ( cam * cam + cap * cap ) / \n",
    "                ( sap * sap * cam * cam ); \n",
    "            \n",
    "        end\n",
    "        \n",
    "    end\n",
    "    \n",
    "    return r;\n",
    "    \n",
    "end"
   ]
  },
  {
   "cell_type": "markdown",
   "id": "22127089-7e28-4ae6-a8bd-69417070b00c",
   "metadata": {},
   "source": [
    "### Function: AdvancePhoton\n",
    "\n",
    "This function updates the location of the photon and checks if it has interacted with the boundary plane $z = 0$."
   ]
  },
  {
   "cell_type": "code",
   "execution_count": 57,
   "id": "0df25e73-4358-4abe-9509-abbbac347780",
   "metadata": {},
   "outputs": [
    {
     "data": {
      "text/plain": [
       "AdvancePhoton (generic function with 1 method)"
      ]
     },
     "execution_count": 57,
     "metadata": {},
     "output_type": "execute_result"
    }
   ],
   "source": [
    "function AdvancePhoton( ℓinv, pos, dir, wt, n1, n2, dρ, Nρ, flux )\n",
    "\n",
    "    # set the iexit flag to continue with the simulation\n",
    "    \n",
    "    iexit = 0;\n",
    "    \n",
    "    # compute the step length\n",
    "    \n",
    "    Δs = - log( rand( Float64 ) ) / ℓinv;\n",
    "\n",
    "    # update the location using the computed step length\n",
    "    \n",
    "    pos += dir * Δs;\n",
    "\n",
    "    # check if the photon has escaped from the top\n",
    "\n",
    "    if pos[3] <= 0 # from the boundary plane z = 0\n",
    "\n",
    "        # compute random number\n",
    "\n",
    "        ξ = rand( Float64 );\n",
    "\n",
    "        # Fresnel reflection\n",
    "\n",
    "        if ξ > RFresnel( n1, n2, -dir[3] );\n",
    "\n",
    "            # set iexit flag to terminate the simulation\n",
    "\n",
    "            iexit = 1;\n",
    "\n",
    "            # back up to the previous location\n",
    "\n",
    "            pos -= dir * Δs;\n",
    "\n",
    "            # propagate up to z = 0 plane\n",
    "\n",
    "            pos += dir * abs( pos[3] / dir[3] );\n",
    "\n",
    "            # record contribution to reflectance\n",
    "\n",
    "           ir = floor( Int, sqrt( pos[1]^2 + pos[2]^2 ) / dρ ) + 1;\n",
    "\n",
    "            if ir < Nρ\n",
    "\n",
    "                flux[ir] += wt;\n",
    "\n",
    "            else\n",
    "\n",
    "                flux[Nρ] += wt;\n",
    "\n",
    "            end\n",
    "\n",
    "        else\n",
    "\n",
    "            # set iexit flag to continue the simulation\n",
    "\n",
    "            iexit = 0;\n",
    "\n",
    "            # reflection by Snell's law\n",
    "\n",
    "            pos[3] = -pos[3];\n",
    "            dir[3] = -dir[3];\n",
    "\n",
    "        end\n",
    "\n",
    "    end\n",
    "    \n",
    "    return iexit, pos, dir, wt, flux;\n",
    "    \n",
    "end"
   ]
  },
  {
   "cell_type": "markdown",
   "id": "82bf8b3e-57f0-4677-855b-4e38f73bf722",
   "metadata": {},
   "source": [
    "### Function: UpdateDirection\n",
    "\n",
    "This function updates the components of the direction vector given the result of the cosine of the scattering angle sampled from the phase function..\r\n"
   ]
  },
  {
   "cell_type": "code",
   "execution_count": 13,
   "id": "3406e9db-fa43-4ebc-8356-c7cb2d35977c",
   "metadata": {},
   "outputs": [
    {
     "data": {
      "text/plain": [
       "UpdateDirection (generic function with 1 method)"
      ]
     },
     "execution_count": 13,
     "metadata": {},
     "output_type": "execute_result"
    }
   ],
   "source": [
    "function UpdateDirection( dir, cosθ )\n",
    "\n",
    "    # compute the sine of the scattering angle\n",
    "    \n",
    "    sinθ = sqrt( 1.0 - cosθ * cosθ );\n",
    "\n",
    "    # compute the azimuthal angle\n",
    "    \n",
    "    ϕ = 2π * rand( Float64 );\n",
    "    \n",
    "    # compute the cosine and sine of the azimuthal angle\n",
    "\n",
    "    cosϕ = cos( ϕ );\n",
    "\n",
    "    if ϕ < 1π\n",
    "\n",
    "        sinϕ = sqrt( 1.0 - cosϕ * cosϕ );\n",
    "\n",
    "    else\n",
    "\n",
    "        sinϕ = -sqrt( 1.0 - cosϕ * cosϕ );\n",
    "\n",
    "    end\n",
    "    \n",
    "    # update the components of the direction vector s = (u,v,w)\n",
    "\n",
    "    if 1.0 - dir[3] <= 1e-12\n",
    "\n",
    "        u = sinθ * cosϕ;\n",
    "        v = sinθ * sinϕ;\n",
    "        w = cosθ * sign( dir[3] );\n",
    "\n",
    "    else\n",
    "\n",
    "        temp = sqrt( 1.0 - dir[3]^2 );\n",
    "\n",
    "        u =  sinθ * ( dir[1] * dir[3] * cosϕ - dir[2] * sinϕ ) / temp + \n",
    "            dir[1] * cosθ;\n",
    "        v =  sinθ * ( dir[2] * dir[3] * cosϕ + dir[1] * sinϕ ) / temp + \n",
    "            dir[2] * cosθ; \n",
    "        w = -sinθ * cosϕ * temp + dir[3] * cosθ;\n",
    "\n",
    "    end\n",
    "    \n",
    "    dir[1] = u;\n",
    "    dir[2] = v;\n",
    "    dir[3] = w;    \n",
    "    \n",
    "    return dir;\n",
    "    \n",
    "end"
   ]
  },
  {
   "cell_type": "markdown",
   "id": "5d8cfd15-dd17-4ce8-a73c-8d58a7fa7aaf",
   "metadata": {},
   "source": [
    "### Function: Absorption\n",
    "\n",
    "This function modifies the weight according to absorption in the medium."
   ]
  },
  {
   "cell_type": "code",
   "execution_count": 15,
   "id": "1ab67d2b-f0ef-4bcd-b71c-0f035224b416",
   "metadata": {},
   "outputs": [
    {
     "data": {
      "text/plain": [
       "Absorption (generic function with 1 method)"
      ]
     },
     "execution_count": 15,
     "metadata": {},
     "output_type": "execute_result"
    }
   ],
   "source": [
    "function Absorption( ϖ0, wt )\n",
    "\n",
    "    # compute the absorption\n",
    "    \n",
    "    absorb = wt * ( 1.0 - ϖ0 );\n",
    "    \n",
    "    # adjust the weight\n",
    "    \n",
    "    wt -= absorb;\n",
    "    \n",
    "    return wt;\n",
    "    \n",
    "end"
   ]
  },
  {
   "cell_type": "markdown",
   "id": "1d868051-c935-49ac-a074-e7cdba11dd11",
   "metadata": {},
   "source": [
    "### Function: Roulette\n",
    "\n",
    "This function performs the Russian Roulette algorithm to determine the fate of a photon once the weight becomes sufficiently small."
   ]
  },
  {
   "cell_type": "code",
   "execution_count": 17,
   "id": "e6af2c0a-c5fd-45ad-a7a5-f06ba5f8fa19",
   "metadata": {},
   "outputs": [
    {
     "data": {
      "text/plain": [
       "Roulette (generic function with 1 method)"
      ]
     },
     "execution_count": 17,
     "metadata": {},
     "output_type": "execute_result"
    }
   ],
   "source": [
    "function Roulette( wt )\n",
    "\n",
    "    # set the chance parameter\n",
    "    \n",
    "    chance = 1e-1;\n",
    "    \n",
    "    if rand( Float64 ) < chance\n",
    "        \n",
    "        # set the iexit flag value to continue simulating\n",
    "        \n",
    "        iexit = 0;\n",
    "        \n",
    "        wt /= chance;\n",
    "                \n",
    "    else\n",
    "        \n",
    "        # set the iexit flag value to terminate simulation\n",
    "        \n",
    "         iexit = 3;\n",
    "                \n",
    "    end\n",
    "    \n",
    "    return iexit, wt;\n",
    "    \n",
    "end"
   ]
  },
  {
   "cell_type": "markdown",
   "id": "57419d75-53a7-45a5-89c7-a327b8999923",
   "metadata": {},
   "source": [
    "## MAIN MC FUNCTION\n",
    "\n",
    "The following function is the main function used to compute the solution of the radiative transfer equation in the semi-infinite medium $z > 0$ using Monte Carlo simulations. This function calls the Common MC functions above."
   ]
  },
  {
   "cell_type": "code",
   "execution_count": 47,
   "id": "53a28128-5acb-488f-95d4-5c1375e09d93",
   "metadata": {},
   "outputs": [
    {
     "data": {
      "text/plain": [
       "MCHalfSpaceHG (generic function with 1 method)"
      ]
     },
     "execution_count": 47,
     "metadata": {},
     "output_type": "execute_result"
    }
   ],
   "source": [
    "function MCHalfSpaceHG( ℓinv, ϖ0, g, n1, n2, ρMAX, Nρ, N )\n",
    "\n",
    "   # compute the souce-detector separation distances\n",
    "   \n",
    "   Δρ = ρMAX / Nρ;\n",
    "   ρ  = Float64[ ( j - 0.5 ) * Δρ for j = 1 : Nρ ];\n",
    "\n",
    "   # allocate memory for the flux (diffuse reflectance)\n",
    "   \n",
    "   flux = Float64[ 0.0 for j = 1 : Nρ ];\n",
    "\n",
    "   # initialize position and direction vectors\n",
    "\n",
    "   pos = Array{Float64}(undef,3);\n",
    "   dir = Array{Float64}(undef,3);\n",
    "\n",
    "   # loop over all photons\n",
    "\n",
    "   for i = 1 : N\n",
    "    \n",
    "      # initialize the photon\n",
    "    \n",
    "      pos[1] = 0.0;\n",
    "      pos[2] = 0.0;\n",
    "      pos[3] = 0.0;\n",
    "    \n",
    "      dir[1] = 0.0;\n",
    "      dir[2] = 0.0;\n",
    "      dir[3] = 1.0;    \n",
    "    \n",
    "      wt = 1.0;\n",
    "    \n",
    "      iexit = 0;\n",
    "\n",
    "      while iexit == 0\n",
    "       \n",
    "         # advance the photon and check to see if it has escaped the domain\n",
    "        \n",
    "         iexit, pos, dir, wt, flux = AdvancePhoton( ℓinv, pos, dir, wt, n1, n2, Δρ, Nρ, flux );  \n",
    "        \n",
    "         # update the weight due to absorption\n",
    "        \n",
    "         wt = Absorption( ϖ0, wt );\n",
    "        \n",
    "         # scatter the photon accoring to Henyey-Greenstein\n",
    "\n",
    "         η = ( 1.0 - g * g ) / ( 1.0 - g + 2.0 * g * rand( Float64 ) );\n",
    "         μ = ( 1.0 + g * g - η^2 ) / ( 2.0 * g );\n",
    "            \n",
    "         # update the components of the direction vector\n",
    "\n",
    "         dir = UpdateDirection( dir, μ );\n",
    "\n",
    "         # roulette (threshold set to 1e-4)\n",
    "        \n",
    "         if wt < 1e-4\n",
    "                    \n",
    "            iexit, wt = Roulette( wt );\n",
    "            \n",
    "         end\n",
    "    \n",
    "      end\n",
    "\n",
    "   end\n",
    "\n",
    "   # normalize the flux\n",
    "\n",
    "   flux = flux ./ ( 2π * ρ * Δρ * N );\n",
    "\n",
    "   return ρ, flux;\n",
    "\n",
    "end"
   ]
  },
  {
   "cell_type": "markdown",
   "id": "83819c60-8d1b-4667-9b90-90580588e179",
   "metadata": {},
   "source": [
    "# Compute MC Simulation Results\n",
    "\n",
    "With the functions defined above, we can specify the problem we wish to solve."
   ]
  },
  {
   "cell_type": "code",
   "execution_count": 59,
   "id": "eb083774-8a0b-4cf5-9aa9-76da0d7024f8",
   "metadata": {},
   "outputs": [
    {
     "name": "stdout",
     "output_type": "stream",
     "text": [
      " 78.004537 seconds (825.41 M allocations: 61.497 GiB, 3.79% gc time, 0.20% compilation time: 100% of which was recompilation)\n"
     ]
    }
   ],
   "source": [
    "# absorption coefficient\n",
    "\n",
    "μa = 1.00;\n",
    "\n",
    "# scattering coefficient\n",
    "\n",
    "μs = 100.0;\n",
    "\n",
    "# total coefficient\n",
    "\n",
    "μt = μs + μa;\n",
    "\n",
    "# albedo\n",
    "\n",
    "ϖ0 = μs / μt;\n",
    "\n",
    "# anisotropy factor\n",
    "\n",
    "g  = 0.90;\n",
    "\n",
    "# refractive indices\n",
    "\n",
    "n1 = 1.38; # inside the medium\n",
    "n2 = 1.00; # outside the medium\n",
    "\n",
    "# radial grid\n",
    "\n",
    "ρMAX = 0.20;\n",
    "Nρ   = 100;\n",
    "\n",
    "# number of photons\n",
    "\n",
    "N  = 1e6;\n",
    "\n",
    "# compute the diffuse reflectance using MC simulations\n",
    "\n",
    "ρ, flux = @time MCHalfSpaceHG( μt, ϖ0, g, n1, n2, ρMAX, Nρ, N );"
   ]
  },
  {
   "cell_type": "markdown",
   "id": "088eaa3a-d24b-4fc3-bb0a-aa6061005d46",
   "metadata": {},
   "source": [
    "# Plot the results\n",
    "\n",
    "We plot the results for the diffuse reflectance and compare them with results previously computed using the pre-compiled Windows implementation of MCML."
   ]
  },
  {
   "cell_type": "code",
   "execution_count": 61,
   "id": "9dd4738e-f5d5-4bc7-a869-44d4f8cb77ce",
   "metadata": {},
   "outputs": [],
   "source": [
    "# read in the MCML code data\n",
    "\n",
    "MCML = readdlm(\"MCMLdata.Rr\");    "
   ]
  },
  {
   "cell_type": "code",
   "execution_count": 68,
   "id": "b23f299e-e15a-45b8-9fd5-a73f0904d7da",
   "metadata": {},
   "outputs": [
    {
     "data": {
      "image/png": "[encoded data removed]",
      "text/plain": [
       "Figure(PyObject <Figure size 640x480 with 1 Axes>)"
      ]
     },
     "metadata": {},
     "output_type": "display_data"
    }
   ],
   "source": [
    "semilogy( μt * ρ[1:Nρ-1], flux[1:Nρ-1], linestyle = \"-\" );\n",
    "semilogy( μt * MCML[1:end-1,1], MCML[1:end-1,2], linestyle = \"--\" );\n",
    "grid( \"on\" );\n",
    "xlabel( L\"$\\mu_{t} \\rho$\", fontsize = 16 );\n",
    "ylabel( L\"$R(\\rho)$\", fontsize = 16 );\n",
    "legend( [ \"Julia-MC\", \"MCML\" ], fontsize = 16 );"
   ]
  },
  {
   "cell_type": "code",
   "execution_count": null,
   "id": "2b884a85-6d9c-4225-b2b4-5a5f3eb4c233",
   "metadata": {},
   "outputs": [],
   "source": []
  }
 ],
 "metadata": {
  "kernelspec": {
   "display_name": "Julia 1.10.4",
   "language": "julia",
   "name": "julia-1.10"
  },
  "language_info": {
   "file_extension": ".jl",
   "mimetype": "application/julia",
   "name": "julia",
   "version": "1.10.4"
  }
 },
 "nbformat": 4,
 "nbformat_minor": 5
}
